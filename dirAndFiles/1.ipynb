{
 "cells": [
  {
   "cell_type": "code",
   "execution_count": 2,
   "metadata": {},
   "outputs": [
    {
     "name": "stdout",
     "output_type": "stream",
     "text": [
      "['Custom Office Templates', 'Electronic Arts', 'GTA San Andreas User Files', 'League of Legends', 'my games']\n",
      "['desktop.ini', 'first.pbix', 'I. Meldebek.pdf', 'Islam Meldebek.docx', 'powerbi.pbix', 'sample-data.json', 'Документ.docx']\n",
      "['Custom Office Templates', 'desktop.ini', 'Electronic Arts', 'first.pbix', 'GTA San Andreas User Files', 'I. Meldebek.pdf', 'Islam Meldebek.docx', 'League of Legends', 'my games', 'powerbi.pbix', 'sample-data.json', 'Документ.docx']\n"
     ]
    }
   ],
   "source": [
    "import os\n",
    "\n",
    "path = input()\n",
    "\n",
    "direct = [d for d in os.listdir(path) if os.path.isdir(os.path.join(path, d))]\n",
    "files = [f for f in os.listdir(path) if os.path.isfile(os.path.join(path, f))]\n",
    "all = os.listdir(path)\n",
    "\n",
    "print(direct)\n",
    "print(files)\n",
    "print(all)"
   ]
  }
 ],
 "metadata": {
  "kernelspec": {
   "display_name": "Python 3",
   "language": "python",
   "name": "python3"
  },
  "language_info": {
   "codemirror_mode": {
    "name": "ipython",
    "version": 3
   },
   "file_extension": ".py",
   "mimetype": "text/x-python",
   "name": "python",
   "nbconvert_exporter": "python",
   "pygments_lexer": "ipython3",
   "version": "3.13.0"
  }
 },
 "nbformat": 4,
 "nbformat_minor": 2
}
