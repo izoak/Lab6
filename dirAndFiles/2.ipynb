{
 "cells": [
  {
   "cell_type": "code",
   "execution_count": 1,
   "metadata": {},
   "outputs": [
    {
     "name": "stdout",
     "output_type": "stream",
     "text": [
      "True\n",
      "True\n",
      "True\n",
      "True\n"
     ]
    }
   ],
   "source": [
    "import os\n",
    "\n",
    "path = input()\n",
    "\n",
    "exists = os.path.exists(path)\n",
    "readable = os.access(path, os.R_OK)\n",
    "writable = os.access(path, os.W_OK)\n",
    "executable = os.access(path, os.X_OK)\n",
    "\n",
    "print(exists)\n",
    "print(readable)\n",
    "print(writable)\n",
    "print(executable)\n"
   ]
  }
 ],
 "metadata": {
  "kernelspec": {
   "display_name": "Python 3",
   "language": "python",
   "name": "python3"
  },
  "language_info": {
   "codemirror_mode": {
    "name": "ipython",
    "version": 3
   },
   "file_extension": ".py",
   "mimetype": "text/x-python",
   "name": "python",
   "nbconvert_exporter": "python",
   "pygments_lexer": "ipython3",
   "version": "3.13.0"
  }
 },
 "nbformat": 4,
 "nbformat_minor": 2
}
