{
 "cells": [
  {
   "cell_type": "code",
   "execution_count": 4,
   "metadata": {},
   "outputs": [
    {
     "name": "stdout",
     "output_type": "stream",
     "text": [
      "Скопировано\n"
     ]
    }
   ],
   "source": [
    "import os\n",
    "\n",
    "froM = input()\n",
    "to = input()\n",
    "\n",
    "try:\n",
    "    with open(froM, \"r\", encoding=\"utf-8\") as src, open(to, \"w\", encoding=\"utf-8\") as to:\n",
    "        to.write(src.read())\n",
    "    print(\"Скопировано\")\n",
    "except Exception as e:\n",
    "    print(\"Ошибочка\")\n"
   ]
  }
 ],
 "metadata": {
  "kernelspec": {
   "display_name": "Python 3",
   "language": "python",
   "name": "python3"
  },
  "language_info": {
   "codemirror_mode": {
    "name": "ipython",
    "version": 3
   },
   "file_extension": ".py",
   "mimetype": "text/x-python",
   "name": "python",
   "nbconvert_exporter": "python",
   "pygments_lexer": "ipython3",
   "version": "3.13.0"
  }
 },
 "nbformat": 4,
 "nbformat_minor": 2
}
